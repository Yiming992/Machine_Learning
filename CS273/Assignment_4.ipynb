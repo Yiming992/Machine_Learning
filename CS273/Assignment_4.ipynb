{
 "cells": [
  {
   "cell_type": "markdown",
   "metadata": {},
   "source": [
    "# Yiming Liu"
   ]
  },
  {
   "cell_type": "markdown",
   "metadata": {},
   "source": [
    "# Problem_2"
   ]
  },
  {
   "cell_type": "code",
   "execution_count": 1,
   "metadata": {
    "collapsed": false
   },
   "outputs": [],
   "source": [
    "# (a)\n",
    "\n",
    "import numpy as np\n",
    "import matplotlib.pyplot as plt\n",
    "import sys\n",
    "import math\n",
    "sys.path.append('/Users/yimingliu/Downloads/HW4-code/')\n",
    "import mltools as ml\n",
    "import mltools.dtree as mltree\n",
    "%matplotlib inline"
   ]
  },
  {
   "cell_type": "code",
   "execution_count": 2,
   "metadata": {
    "collapsed": true
   },
   "outputs": [],
   "source": [
    "X = np.genfromtxt(\"/Users/yimingliu/Downloads/HW4-code/data/X_train.txt\",delimiter=None)\n",
    "Y= np.genfromtxt(\"/Users/yimingliu/Downloads/HW4-code/data/Y_train.txt\",delimiter=None)\n",
    "X_test=np.genfromtxt(\"/Users/yimingliu/Downloads/HW4-code/data/X_test.txt\",delimiter=None)\n",
    "X_train=X[0:160000,:]\n",
    "Y_train=Y[0:160000]\n",
    "X_vali=X[160001:200000,:]\n",
    "Y_vali=Y[160001:200000]"
   ]
  },
  {
   "cell_type": "code",
   "execution_count": 454,
   "metadata": {
    "collapsed": false
   },
   "outputs": [],
   "source": [
    "# (b)\n",
    "dt=mltree.treeClassify(X_train,Y_train,maxDepth=50)\n",
    "predict_train=dt.predict(X_train)\n",
    "predict=dt.predict(X_vali)"
   ]
  },
  {
   "cell_type": "code",
   "execution_count": 4,
   "metadata": {
    "collapsed": false
   },
   "outputs": [
    {
     "data": {
      "text/plain": [
       "0.012500000000000001"
      ]
     },
     "execution_count": 4,
     "metadata": {},
     "output_type": "execute_result"
    }
   ],
   "source": [
    "# Training error\n",
    "np.sum(predict_train!=Y_train)/Y_train.shape[0]"
   ]
  },
  {
   "cell_type": "code",
   "execution_count": 5,
   "metadata": {
    "collapsed": false
   },
   "outputs": [
    {
     "data": {
      "text/plain": [
       "0.37393739373937396"
      ]
     },
     "execution_count": 5,
     "metadata": {},
     "output_type": "execute_result"
    }
   ],
   "source": [
    "# Validation error\n",
    "np.sum(predict!=Y_vali)/Y_vali.shape[0]"
   ]
  },
  {
   "cell_type": "code",
   "execution_count": 6,
   "metadata": {
    "collapsed": true
   },
   "outputs": [],
   "source": [
    "# (c)\n",
    "trainerr=[]\n",
    "valierr=[]\n",
    "for i in range(16):\n",
    "    dt=mltree.treeClassify(X_train,Y_train, maxDepth=i)\n",
    "    predict_train=dt.predict(X_train)\n",
    "    predict=dt.predict(X_vali)\n",
    "    terr=np.sum(predict_train!=Y_train)/Y_train.shape[0]\n",
    "    verr=np.sum(predict!=Y_vali)/Y_vali.shape[0]\n",
    "    trainerr.append(terr)\n",
    "    valierr.append(verr)"
   ]
  },
  {
   "cell_type": "code",
   "execution_count": 7,
   "metadata": {
    "collapsed": false
   },
   "outputs": [
    {
     "data": {
      "text/plain": [
       "(-1, 16)"
      ]
     },
     "execution_count": 7,
     "metadata": {},
     "output_type": "execute_result"
    },
    {
     "data": {
      "image/png": "[encoded data removed]",
      "text/plain": [
       "<matplotlib.figure.Figure at 0x1056a0550>"
      ]
     },
     "metadata": {},
     "output_type": "display_data"
    }
   ],
   "source": [
    "# plot training and validation error vs maxDepth\n",
    "plt.plot(range(16),trainerr,'bo',c='red')\n",
    "plt.plot(range(16),valierr,'bo',c='green')\n",
    "plt.legend(['Training error', 'Validation error'], loc='lower left')\n",
    "plt.xlabel('maxDepth')\n",
    "plt.ylabel('Error rate')\n",
    "plt.xlim([-1,16])"
   ]
  },
  {
   "cell_type": "code",
   "execution_count": 8,
   "metadata": {
    "collapsed": false
   },
   "outputs": [
    {
     "data": {
      "text/plain": [
       "[0.36249999999999999,\n",
       " 0.34860000000000002,\n",
       " 0.32890000000000003,\n",
       " 0.3196,\n",
       " 0.31330000000000002,\n",
       " 0.30480000000000002,\n",
       " 0.29749999999999999,\n",
       " 0.28620000000000001,\n",
       " 0.27679999999999999,\n",
       " 0.26219999999999999,\n",
       " 0.24759999999999999,\n",
       " 0.23380000000000001,\n",
       " 0.2172,\n",
       " 0.20150000000000001,\n",
       " 0.1862,\n",
       " 0.1709]"
      ]
     },
     "execution_count": 8,
     "metadata": {},
     "output_type": "execute_result"
    }
   ],
   "source": [
    "# Training error vs maxdepth\n",
    "trainerr"
   ]
  },
  {
   "cell_type": "code",
   "execution_count": 9,
   "metadata": {
    "collapsed": false
   },
   "outputs": [
    {
     "data": {
      "text/plain": [
       "[0.36153615361536151,\n",
       " 0.34393439343934396,\n",
       " 0.33183318331833184,\n",
       " 0.32093209320932092,\n",
       " 0.31303130313031302,\n",
       " 0.31373137313731375,\n",
       " 0.31043104310431041,\n",
       " 0.30983098309830981,\n",
       " 0.31613161316131611,\n",
       " 0.32033203320332032,\n",
       " 0.31733173317331731,\n",
       " 0.32373237323732373,\n",
       " 0.32873287328732875,\n",
       " 0.33093309330933091,\n",
       " 0.33723372337233726,\n",
       " 0.34073407340734074]"
      ]
     },
     "execution_count": 9,
     "metadata": {},
     "output_type": "execute_result"
    }
   ],
   "source": [
    "# validation error vs maxdepth\n",
    "valierr"
   ]
  },
  {
   "cell_type": "markdown",
   "metadata": {},
   "source": [
    "From above results we can see the model with full depth has the lowest training error rate, but the highest validation error rate. The complexity is increasing with the depth cutoff since training error rate keeps decreasing as depth increases. Meanwhile, the model displays a clear overfitting, since the validation error begins increase once the depth increases past 6. Thus I would select 6 for the maxdepth if maxdepth is chosen to control the complexity, as it produces the lowest validation error rate."
   ]
  },
  {
   "cell_type": "code",
   "execution_count": 10,
   "metadata": {
    "collapsed": false
   },
   "outputs": [],
   "source": [
    "# (d)\n",
    "N=[]\n",
    "for i in range(2,13):\n",
    "    N.append(2**i)"
   ]
  },
  {
   "cell_type": "code",
   "execution_count": 11,
   "metadata": {
    "collapsed": false
   },
   "outputs": [],
   "source": [
    "trainerr=[]\n",
    "valierr=[]\n",
    "for i in N:\n",
    "    dt=mltree.treeClassify(X_train,Y_train, maxDepth=50,minLeaf=i)\n",
    "    predict_train=dt.predict(X_train)\n",
    "    predict=dt.predict(X_vali)\n",
    "    terr=np.sum(predict_train!=Y_train)/Y_train.shape[0]\n",
    "    verr=np.sum(predict!=Y_vali)/Y_vali.shape[0]\n",
    "    trainerr.append(terr)\n",
    "    valierr.append(verr)"
   ]
  },
  {
   "cell_type": "code",
   "execution_count": 12,
   "metadata": {
    "collapsed": false
   },
   "outputs": [
    {
     "data": {
      "text/plain": [
       "(0, 13)"
      ]
     },
     "execution_count": 12,
     "metadata": {},
     "output_type": "execute_result"
    },
    {
     "data": {
      "image/png": "[encoded data removed]",
      "text/plain": [
       "<matplotlib.figure.Figure at 0x1056c1cf8>"
      ]
     },
     "metadata": {},
     "output_type": "display_data"
    }
   ],
   "source": [
    "# plot training and validation error vs minleaf\n",
    "plt.plot(range(2,13),trainerr,'bo',c='red')\n",
    "plt.plot(range(2,13),valierr,'bo',c='green')\n",
    "plt.legend(['Training error', 'Validation error'], loc='lower right')\n",
    "plt.xlabel('minLeaf')\n",
    "plt.ylabel('Error rate')\n",
    "plt.xlim([0,13])"
   ]
  },
  {
   "cell_type": "markdown",
   "metadata": {},
   "source": [
    "The complexity is decreasing as minleaf grows, since the training error rate keeps increasing as minleaf grows. The model seems to start overfitting when minleaf is below $2^{8}$, since the validation error begins to increase past $2^{8}$. Thus, I would use $2^{8}$ for this type of complexity control, as it achieves the lowest validation error."
   ]
  },
  {
   "cell_type": "code",
   "execution_count": 13,
   "metadata": {
    "collapsed": false
   },
   "outputs": [
    {
     "data": {
      "text/plain": [
       "[0.37093709370937095,\n",
       " 0.36473647364736472,\n",
       " 0.35213521352135213,\n",
       " 0.34013401340134014,\n",
       " 0.32273227322732273,\n",
       " 0.32803280328032802,\n",
       " 0.31983198319831985,\n",
       " 0.32723272327232722,\n",
       " 0.33183318331833184,\n",
       " 0.34393439343934396,\n",
       " 0.36153615361536151]"
      ]
     },
     "execution_count": 13,
     "metadata": {},
     "output_type": "execute_result"
    }
   ],
   "source": [
    "# validation error rate vs minleaf\n",
    "valierr"
   ]
  },
  {
   "cell_type": "code",
   "execution_count": 14,
   "metadata": {
    "collapsed": false
   },
   "outputs": [],
   "source": [
    "# (f)\n",
    "\n",
    "\n",
    "# Trained model\n",
    "dt =mltree.treeClassify(X_train,Y_train, maxDepth=50)\n",
    "\n",
    "# false positive rate, true positive rate and true negative rate for validation data\n",
    "fpr,tpr,tnr=dt.roc(X_vali,Y_vali)\n"
   ]
  },
  {
   "cell_type": "code",
   "execution_count": 15,
   "metadata": {
    "collapsed": false
   },
   "outputs": [
    {
     "data": {
      "text/plain": [
       "<matplotlib.text.Text at 0x117039e10>"
      ]
     },
     "execution_count": 15,
     "metadata": {},
     "output_type": "execute_result"
    },
    {
     "data": {
      "image/png": "[encoded data removed]",
      "text/plain": [
       "<matplotlib.figure.Figure at 0x11710b630>"
      ]
     },
     "metadata": {},
     "output_type": "display_data"
    }
   ],
   "source": [
    "# plot the ROC curve\n",
    "plt.plot(fpr,tpr)\n",
    "plt.xlabel('False positive rate')\n",
    "plt.ylabel('True positive rate')"
   ]
  },
  {
   "cell_type": "code",
   "execution_count": 16,
   "metadata": {
    "collapsed": false
   },
   "outputs": [
    {
     "data": {
      "text/plain": [
       "0.59714156154563447"
      ]
     },
     "execution_count": 16,
     "metadata": {},
     "output_type": "execute_result"
    }
   ],
   "source": [
    "# AUC using validation data\n",
    "dt.auc(X_vali,Y_vali)"
   ]
  },
  {
   "cell_type": "code",
   "execution_count": 17,
   "metadata": {
    "collapsed": false
   },
   "outputs": [],
   "source": [
    "# (g)\n",
    "\n",
    "\n",
    "# Best complexity control value seems to be maxDepth=7, as it achieves the lowest validation error rate\n",
    "# according to previous analysis\n",
    "\n",
    "# retrain model with maxDepth=7\n",
    "dt =mltree.treeClassify(X_train,Y_train, maxDepth=6)\n",
    "\n",
    "# AUC using validation data\n",
    "Auc_1=dt.auc(X_vali,Y_vali)\n",
    "# AUC on training data\n",
    "Auc_2=dt.auc(X_train,Y_train)"
   ]
  },
  {
   "cell_type": "code",
   "execution_count": 18,
   "metadata": {
    "collapsed": false
   },
   "outputs": [
    {
     "data": {
      "text/plain": [
       "0.67312855530943549"
      ]
     },
     "execution_count": 18,
     "metadata": {},
     "output_type": "execute_result"
    }
   ],
   "source": [
    "Auc_1"
   ]
  },
  {
   "cell_type": "code",
   "execution_count": 19,
   "metadata": {
    "collapsed": false
   },
   "outputs": [
    {
     "data": {
      "text/plain": [
       "0.71034024070317781"
      ]
     },
     "execution_count": 19,
     "metadata": {},
     "output_type": "execute_result"
    }
   ],
   "source": [
    "Auc_2"
   ]
  },
  {
   "cell_type": "code",
   "execution_count": 20,
   "metadata": {
    "collapsed": true
   },
   "outputs": [],
   "source": [
    "Ypred = dt.predictSoft( X_test )\n",
    "# Now output a file with two columns, a row ID and a confidence in class 1:\n",
    "np.savetxt('DecisionTree.txt',\n",
    "np.vstack( (np.arange(len(Ypred)) , Ypred[:,1]) ).T,\n",
    "'%d, %.2f',header='ID,Prob1',comments='',delimiter=',');"
   ]
  },
  {
   "cell_type": "markdown",
   "metadata": {},
   "source": [
    "Above model scores 0.63889, which is close to the AUC score computed above."
   ]
  },
  {
   "cell_type": "markdown",
   "metadata": {},
   "source": [
    "# Problem_3"
   ]
  },
  {
   "cell_type": "code",
   "execution_count": 5,
   "metadata": {
    "collapsed": false
   },
   "outputs": [],
   "source": [
    "# (a)\n",
    "import random\n",
    "validation_error=[]\n",
    "training_error=[]\n",
    "number=[1,5,10,25]\n",
    "features=list(range(5,8))"
   ]
  },
  {
   "cell_type": "code",
   "execution_count": 169,
   "metadata": {
    "collapsed": false
   },
   "outputs": [],
   "source": [
    "# Random forest with 1 individual decision trees\n",
    "nbag=1\n",
    "ensemble=[]\n",
    "\n",
    "for i in range(nbag):\n",
    "    data=ml.bootstrapData(X_train,Y_train,n_boot=X_train.shape[0])\n",
    "    ensemble.append(mltree.treeClassify(data[0],data[1],maxDepth=45,minLeaf=6,nFeatures=random.choice(features)))    "
   ]
  },
  {
   "cell_type": "code",
   "execution_count": 170,
   "metadata": {
    "collapsed": false
   },
   "outputs": [],
   "source": [
    "# Prediction on validation data\n",
    "mVali = X_vali.shape[0]\n",
    "pred = np.zeros((mVali,nbag)) # Allocate space for predictions from each model\n",
    "for i in range(nbag):\n",
    "    pred[:,i] = ensemble[i].predict(X_vali)\n",
    "    # Make overall prediction by majority vote\n",
    "prediction= np.sum(pred, axis=1)/nbag > 0.5  \n",
    "# validation error rate\n",
    "verr=np.sum(prediction!=Y_vali)/Y_vali.shape[0]\n",
    "validation_error.append(verr)"
   ]
  },
  {
   "cell_type": "code",
   "execution_count": 171,
   "metadata": {
    "collapsed": true
   },
   "outputs": [],
   "source": [
    "# Prediction on training data\n",
    "mVali = X_train.shape[0]\n",
    "pred = np.zeros((mVali,nbag)) # Allocate space for predictions from each model\n",
    "for i in range(nbag):\n",
    "    pred[:,i] = ensemble[i].predict(X_train)\n",
    "# Make overall prediction by majority vote\n",
    "prediction= np.sum(pred, axis=1)/nbag > 0.5 \n",
    "# training error rate\n",
    "traerr=np.sum(prediction!=Y_train)/Y_train.shape[0]\n",
    "training_error.append(traerr)"
   ]
  },
  {
   "cell_type": "code",
   "execution_count": 172,
   "metadata": {
    "collapsed": false
   },
   "outputs": [],
   "source": [
    "# Random forest with 5 individual decision trees\n",
    "nbag=5\n",
    "ensemble=[]\n",
    "\n",
    "for i in range(nbag):\n",
    "    data=ml.bootstrapData(X_train,Y_train,n_boot=X_train.shape[0])\n",
    "    ensemble.append(mltree.treeClassify(data[0],data[1],maxDepth=45,minLeaf=6,nFeatures=random.choice(features)))    "
   ]
  },
  {
   "cell_type": "code",
   "execution_count": 173,
   "metadata": {
    "collapsed": false
   },
   "outputs": [],
   "source": [
    "# Predictions on validation data\n",
    "mVali = X_vali.shape[0]\n",
    "pred = np.zeros((mVali,nbag)) # Allocate space for predictions from each model\n",
    "for i in range(nbag):\n",
    "    pred[:,i] = ensemble[i].predict(X_vali)\n",
    "    # Make overall predictions by majority vote\n",
    "prediction= np.sum(pred, axis=1)/nbag > 0.5  \n",
    "# validation error rate\n",
    "verr=np.sum(prediction!=Y_vali)/Y_vali.shape[0]\n",
    "validation_error.append(verr)"
   ]
  },
  {
   "cell_type": "code",
   "execution_count": 174,
   "metadata": {
    "collapsed": true
   },
   "outputs": [],
   "source": [
    "# Predictions on training data\n",
    "mVali = X_train.shape[0]\n",
    "pred = np.zeros((mVali,nbag)) # Allocate space for predictions from each model\n",
    "for i in range(nbag):\n",
    "    pred[:,i] = ensemble[i].predict(X_train)\n",
    "# Make overall predictions by majority vote\n",
    "prediction= np.sum(pred, axis=1)/nbag > 0.5 \n",
    "# training error rate\n",
    "traerr=np.sum(prediction!=Y_train)/Y_train.shape[0]\n",
    "training_error.append(traerr)"
   ]
  },
  {
   "cell_type": "code",
   "execution_count": 397,
   "metadata": {
    "collapsed": false
   },
   "outputs": [],
   "source": [
    "# Random forest with 10 individual decision trees\n",
    "nbag=10\n",
    "ensemble=[]\n",
    "\n",
    "for i in range(nbag):\n",
    "    data=ml.bootstrapData(X_train,Y_train,n_boot=X_train.shape[0])\n",
    "    ensemble.append(mltree.treeClassify(data[0],data[1],maxDepth=15,minLeaf=5,nFeatures=random.choice(features))) "
   ]
  },
  {
   "cell_type": "code",
   "execution_count": 9,
   "metadata": {
    "collapsed": true
   },
   "outputs": [],
   "source": [
    "# Predictions on validation data\n",
    "mVali = X_vali.shape[0]\n",
    "pred = np.zeros((mVali,nbag)) # Allocate space for predictions from each model\n",
    "for i in range(nbag):\n",
    "    pred[:,i] = ensemble[i].predict(X_vali)\n",
    "    # Make overall predictions by majority vote\n",
    "prediction= np.sum(pred, axis=1)/nbag > 0.5  \n",
    "# validation error rate\n",
    "verr=np.sum(prediction!=Y_vali)/Y_vali.shape[0]\n",
    "validation_error.append(verr)"
   ]
  },
  {
   "cell_type": "code",
   "execution_count": 251,
   "metadata": {
    "collapsed": true
   },
   "outputs": [],
   "source": [
    "# Predictions on training data\n",
    "mVali = X_train.shape[0]\n",
    "pred = np.zeros((mVali,nbag)) # Allocate space for predictions from each model\n",
    "for i in range(nbag):\n",
    "    pred[:,i] = ensemble[i].predict(X_train)\n",
    "# Make overall predictions by majority vote\n",
    "prediction= np.sum(pred, axis=1)/nbag > 0.5 \n",
    "# training error rate\n",
    "traerr=np.sum(prediction!=Y_train)/Y_train.shape[0]\n",
    "training_error.append(traerr)"
   ]
  },
  {
   "cell_type": "code",
   "execution_count": 7,
   "metadata": {
    "collapsed": false
   },
   "outputs": [],
   "source": [
    "# Random forest with 25 individual decision trees\n",
    "nbag=25\n",
    "ensemble=[]\n",
    "\n",
    "for i in range(nbag):\n",
    "    data=ml.bootstrapData(X_train,Y_train,n_boot=X_train.shape[0])\n",
    "    ensemble.append(mltree.treeClassify(data[0],data[1],maxDepth=50,minLeaf=256,nFeatures=10))"
   ]
  },
  {
   "cell_type": "code",
   "execution_count": 459,
   "metadata": {
    "collapsed": true
   },
   "outputs": [],
   "source": [
    "# Predictions on validation data\n",
    "mVali = X_vali.shape[0]\n",
    "pred = np.zeros((mVali,nbag)) # Allocate space for predictions from each model\n",
    "for i in range(nbag):\n",
    "    pred[:,i] = ensemble[i].predict(X_vali)\n",
    "    # Make overall predictions by majority vote\n",
    "prediction= np.sum(pred, axis=1)/nbag > 0.5  \n",
    "# validation error rate\n",
    "verr=np.sum(prediction!=Y_vali)/Y_vali.shape[0]\n",
    "validation_error.append(verr)"
   ]
  },
  {
   "cell_type": "code",
   "execution_count": 253,
   "metadata": {
    "collapsed": true
   },
   "outputs": [],
   "source": [
    "# Predictions on training data\n",
    "mVali = X_train.shape[0]\n",
    "pred = np.zeros((mVali,nbag)) # Allocate space for predictions from each model\n",
    "for i in range(nbag):\n",
    "    pred[:,i] = ensemble[i].predict(X_train)\n",
    "# Make overall predictions by majority vote\n",
    "prediction= np.sum(pred, axis=1)/nbag > 0.5 \n",
    "# training error rate\n",
    "traerr=np.sum(prediction!=Y_train)/Y_train.shape[0]\n",
    "training_error.append(traerr)"
   ]
  },
  {
   "cell_type": "code",
   "execution_count": 181,
   "metadata": {
    "collapsed": false
   },
   "outputs": [
    {
     "data": {
      "text/plain": [
       "(0, 26)"
      ]
     },
     "execution_count": 181,
     "metadata": {},
     "output_type": "execute_result"
    },
    {
     "data": {
      "image/png": "[encoded data removed]",
      "text/plain": [
       "<matplotlib.figure.Figure at 0x10b094320>"
      ]
     },
     "metadata": {},
     "output_type": "display_data"
    }
   ],
   "source": [
    "plt.plot(number,training_error,'bo',c='red')\n",
    "plt.plot(number,validation_error,'bo',c='green')\n",
    "plt.legend(['Training error', 'Validation error'], loc='upper right')\n",
    "plt.xlabel('number of learners')\n",
    "plt.ylabel('Error rate')\n",
    "plt.xlim([0,26])"
   ]
  },
  {
   "cell_type": "code",
   "execution_count": 241,
   "metadata": {
    "collapsed": false
   },
   "outputs": [
    {
     "data": {
      "text/plain": [
       "[0.23369999999999999,\n",
       " 0.1404,\n",
       " 0.1394,\n",
       " 0.10249999999999999,\n",
       " 0.098000000000000004,\n",
       " 0.10000000000000001,\n",
       " 0.099599999999999994,\n",
       " 0.10349999999999999,\n",
       " 0.104,\n",
       " 0.1016,\n",
       " 0.099299999999999999,\n",
       " 0.1026,\n",
       " 0.14099999999999999,\n",
       " 0.1069,\n",
       " 0.13780000000000001,\n",
       " 0.1028,\n",
       " 0.1072]"
      ]
     },
     "execution_count": 241,
     "metadata": {},
     "output_type": "execute_result"
    }
   ],
   "source": [
    "training_error"
   ]
  },
  {
   "cell_type": "code",
   "execution_count": 10,
   "metadata": {
    "collapsed": false
   },
   "outputs": [
    {
     "data": {
      "text/plain": [
       "[0.29360734018350459]"
      ]
     },
     "execution_count": 10,
     "metadata": {},
     "output_type": "execute_result"
    }
   ],
   "source": [
    "validation_error"
   ]
  },
  {
   "cell_type": "markdown",
   "metadata": {},
   "source": [
    "According to the validation error, the random forests with 25 individual learners seem to produce the optimal results. Thus I will choose ensemble size 25 for my ensemble learner."
   ]
  },
  {
   "cell_type": "code",
   "execution_count": 11,
   "metadata": {
    "collapsed": false
   },
   "outputs": [],
   "source": [
    "# (b)\n",
    "# soft Predictions on test data\n",
    "mtest = X_test.shape[0]\n",
    "pred = np.zeros((mtest,nbag)) # Allocate space for predictions from each model\n",
    "for i in range(nbag):\n",
    "    pred[:,i] = ensemble[i].predictSoft(X_test)[:,1]\n",
    "# Make overall soft predictions \n",
    "Ypred= np.mean(pred, axis=1) "
   ]
  },
  {
   "cell_type": "code",
   "execution_count": 310,
   "metadata": {
    "collapsed": true
   },
   "outputs": [],
   "source": [
    "mtest = X_test.shape[0]\n",
    "pred = np.zeros((mtest,nbag)) # Allocate space for predictions from each model\n",
    "for i in range(nbag):\n",
    "    pred[:,i] = ensemble[i].predict(X_test)\n",
    "# Make overall predictions by majority vote\n",
    "Ypred= np.sum(pred, axis=1)/nbag"
   ]
  },
  {
   "cell_type": "code",
   "execution_count": 13,
   "metadata": {
    "collapsed": false
   },
   "outputs": [],
   "source": [
    "# Now output a file with two columns, a row ID and a confidence in class 1:\n",
    "np.savetxt('RandomForests11.txt',\n",
    "np.vstack( (np.arange(len(Ypred)) , Ypred) ).T,\n",
    "'%d, %.2f',header='ID,Prob1',comments='',delimiter=',')"
   ]
  }
 ],
 "metadata": {
  "kernelspec": {
   "display_name": "Python 3",
   "language": "python",
   "name": "python3"
  },
  "language_info": {
   "codemirror_mode": {
    "name": "ipython",
    "version": 3
   },
   "file_extension": ".py",
   "mimetype": "text/x-python",
   "name": "python",
   "nbconvert_exporter": "python",
   "pygments_lexer": "ipython3",
   "version": "3.6.0"
  }
 },
 "nbformat": 4,
 "nbformat_minor": 0
}
