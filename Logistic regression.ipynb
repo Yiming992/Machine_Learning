{
 "cells": [
  {
   "cell_type": "code",
   "execution_count": 118,
   "metadata": {
    "collapsed": true
   },
   "outputs": [],
   "source": [
    "import tensorflow as tf\n",
    "import numpy as np\n",
    "from sklearn.datasets import make_moons"
   ]
  },
  {
   "cell_type": "code",
   "execution_count": 123,
   "metadata": {
    "collapsed": true
   },
   "outputs": [],
   "source": [
    "\n",
    "## Generating data\n",
    "x, y = make_moons(n_samples=1000, noise=0.1)"
   ]
  },
  {
   "cell_type": "code",
   "execution_count": 124,
   "metadata": {
    "collapsed": true
   },
   "outputs": [],
   "source": [
    "x_plus_bias=np.c_[np.ones((m,1)),x]"
   ]
  },
  {
   "cell_type": "code",
   "execution_count": 115,
   "metadata": {
    "collapsed": true
   },
   "outputs": [],
   "source": [
    "from sklearn.preprocessing import StandardScaler\n",
    "m,n=x.shape\n",
    "std_scaler=StandardScaler()\n",
    "scaled_x=std_scaler.fit_transform(x)\n",
    "scaled_x_plus_bias=np.c_[np.ones((m,1)),scaled_x]"
   ]
  },
  {
   "cell_type": "code",
   "execution_count": 125,
   "metadata": {
    "collapsed": true
   },
   "outputs": [],
   "source": [
    "\n",
    "## Construct a computational graph for logistic regression\n",
    "\n",
    "from datetime import datetime\n",
    "import numpy.random as rnd\n",
    "tf.reset_default_graph()\n",
    "epsilon = 1e-7\n",
    "n_epochs=1000\n",
    "batch_size=50\n",
    "learning_rate=1e-2\n",
    "n_batches=int(np.ceil(m/batch_size))\n",
    "\n",
    "now=datetime.now().strftime('%Y%m%d%H%M%S')\n",
    "root_logdir='moons'\n",
    "logdir='{}/run/-{}'.format(root_logdir,now)\n",
    "\n",
    "\n",
    "def fetch_batch(epoch,batch_index,batch_size):\n",
    "    rnd.seed(epoch)\n",
    "    indices=rnd.permutation(m)\n",
    "    if batch_index==n_batches-1:\n",
    "        x_batch=x_plus_bias[batch_index*batch_size:]\n",
    "        y_batch=y.reshape(-1,1)[batch_index*batch_size:]\n",
    "    else:\n",
    "        x_batch=x_plus_bias[batch_index*batch_size:batch_index*batch_size+batch_size]\n",
    "        y_batch=y.reshape(-1,1)[batch_index*batch_size:batch_index*batch_size+batch_size]\n",
    "    return x_batch, y_batch\n",
    "\n",
    "\n",
    "def logistic_regression():\n",
    "    X=tf.placeholder(tf.float32,shape=[None,n+1],name='X')\n",
    "    Y=tf.placeholder(tf.float32,shape=[None,1],name='Y')\n",
    "    w=tf.Variable(tf.random_uniform([n+1,1],-1.0,1.0),dtype=tf.float32,name='weights')\n",
    "    logits=1./(1.+tf.exp(-tf.matmul(X,w)))\n",
    "    cross_entropy=tf.losses.log_loss(Y, logits)\n",
    "    return X,Y,w,logits,cross_entropy\n",
    "    \n",
    "X,Y,w,logits,cross_entropy=logistic_regression()\n",
    "optimizer=tf.train.GradientDescentOptimizer(learning_rate=learning_rate)\n",
    "training_op=optimizer.minimize(cross_entropy)\n",
    "\n",
    "\n",
    "cross_entropy_summary=tf.summary.scalar('entropy',cross_entropy)\n",
    "File_writer=tf.summary.FileWriter(logdir,tf.get_default_graph())\n",
    "\n",
    "init=tf.global_variables_initializer()\n",
    "saver=tf.train.Saver()"
   ]
  },
  {
   "cell_type": "code",
   "execution_count": 126,
   "metadata": {},
   "outputs": [
    {
     "name": "stdout",
     "output_type": "stream",
     "text": [
      "entropy: 0.986466\n",
      "entropy: 0.346655\n",
      "entropy: 0.314789\n",
      "entropy: 0.30527\n",
      "entropy: 0.302294\n",
      "entropy: 0.301828\n",
      "entropy: 0.302402\n",
      "entropy: 0.303407\n",
      "entropy: 0.30457\n",
      "entropy: 0.30576\n",
      "[[ 0.65127939]\n",
      " [ 1.14652693]\n",
      " [-4.98445845]]\n"
     ]
    }
   ],
   "source": [
    "## Perform training\n",
    "\n",
    "with tf.Session() as sess:\n",
    "    sess.run(init)\n",
    "    \n",
    "    \n",
    "    for epoch in range(n_epochs):\n",
    "        if epoch%100==0:\n",
    "            save_path=saver.save(sess,\"./tmp/my_model_final.ckpt\")\n",
    "            print('entropy:', cross_entropy.eval(feed_dict={X:x_batch,Y:y_batch}))\n",
    "        for batch_index in range(n_batches):\n",
    "            x_batch,y_batch=fetch_batch(epoch,batch_index,batch_size)\n",
    "            if batch_index%10==0:\n",
    "                summary_str=cross_entropy_summary.eval(feed_dict={X:x_batch,Y:y_batch})\n",
    "                step=batch_index+1+epoch*n_batches\n",
    "                File_writer.add_summary(summary_str,step)\n",
    "            sess.run(training_op,feed_dict={X:x_batch,Y:y_batch})\n",
    "    weights=w.eval()\n",
    "    print(weights)\n",
    "    save_path=saver.save(sess,\"./tmp/my_model_final.ckpt\")"
   ]
  }
 ],
 "metadata": {
  "kernelspec": {
   "display_name": "Python 3",
   "language": "python",
   "name": "python3"
  },
  "language_info": {
   "codemirror_mode": {
    "name": "ipython",
    "version": 3
   },
   "file_extension": ".py",
   "mimetype": "text/x-python",
   "name": "python",
   "nbconvert_exporter": "python",
   "pygments_lexer": "ipython3",
   "version": "3.5.2"
  }
 },
 "nbformat": 4,
 "nbformat_minor": 2
}
