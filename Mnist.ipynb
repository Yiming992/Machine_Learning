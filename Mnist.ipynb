{
 "cells": [
  {
   "cell_type": "code",
   "execution_count": 1,
   "metadata": {
    "collapsed": true
   },
   "outputs": [],
   "source": [
    "# This Note book will train a 4-hidden layer ANN on Mnist data set\n",
    "# with tensorflow\n",
    "\n",
    "\n",
    "import numpy as np\n",
    "import tensorflow as tf"
   ]
  },
  {
   "cell_type": "code",
   "execution_count": 2,
   "metadata": {},
   "outputs": [
    {
     "name": "stdout",
     "output_type": "stream",
     "text": [
      "Extracting /tmp/data/train-images-idx3-ubyte.gz\n",
      "Extracting /tmp/data/train-labels-idx1-ubyte.gz\n",
      "Extracting /tmp/data/t10k-images-idx3-ubyte.gz\n",
      "Extracting /tmp/data/t10k-labels-idx1-ubyte.gz\n"
     ]
    }
   ],
   "source": [
    "from tensorflow.examples.tutorials.mnist import input_data\n",
    "mnist= input_data.read_data_sets('/tmp/data/')"
   ]
  },
  {
   "cell_type": "code",
   "execution_count": null,
   "metadata": {
    "collapsed": true
   },
   "outputs": [],
   "source": [
    "mnist"
   ]
  },
  {
   "cell_type": "code",
   "execution_count": 3,
   "metadata": {
    "collapsed": true
   },
   "outputs": [],
   "source": [
    "n_inputs=28*28\n",
    "n_hidden1=300\n",
    "n_hidden2=200\n",
    "n_hidden3=100\n",
    "n_hidden4=50\n",
    "n_output=10"
   ]
  },
  {
   "cell_type": "code",
   "execution_count": 4,
   "metadata": {
    "collapsed": true
   },
   "outputs": [],
   "source": [
    "X=tf.placeholder(tf.float32,shape=(None,n_inputs),name='X')\n",
    "Y=tf.placeholder(tf.int64,shape=(None),name='Y')"
   ]
  },
  {
   "cell_type": "code",
   "execution_count": 5,
   "metadata": {
    "collapsed": true
   },
   "outputs": [],
   "source": [
    "def layer(x,n_neurons,name,activation=None):\n",
    "    with tf.name_scope(name):\n",
    "        n_inputs=int(x.get_shape()[1])\n",
    "        stddev=2/np.sqrt(n_inputs)\n",
    "        init=tf.truncated_normal((n_inputs,n_neurons),stddev=stddev)\n",
    "        w=tf.Variable(init, name='weights')\n",
    "        bias=tf.Variable(tf.zeros((n_neurons)))\n",
    "        z=tf.matmul(x,w)+bias\n",
    "        if activation=='relu':\n",
    "            return tf.nn.relu(z)\n",
    "        else:\n",
    "            return z\n",
    "        "
   ]
  },
  {
   "cell_type": "code",
   "execution_count": 6,
   "metadata": {
    "collapsed": true
   },
   "outputs": [],
   "source": [
    "with tf.name_scope('Dnn'):\n",
    "    hidden1=layer(X,n_hidden1,'hidden_layer1',activation='relu')\n",
    "    hidden2=layer(hidden1,n_hidden2,'hidden_layer2',activation='relu')\n",
    "    hidden3=layer(hidden2,n_hidden3,'hidden_layer3',activation='relu')\n",
    "    hidden4=layer(hidden3,n_hidden4,'hidden_layer4',activation='relu')\n",
    "    logits=layer(hidden4,n_output,'outputs')\n"
   ]
  },
  {
   "cell_type": "code",
   "execution_count": 7,
   "metadata": {
    "collapsed": true
   },
   "outputs": [],
   "source": [
    "with tf.name_scope('loss'):\n",
    "    entropy=tf.nn.sparse_softmax_cross_entropy_with_logits(labels=Y,logits=logits)\n",
    "    loss=tf.reduce_mean(entropy,name='loss')"
   ]
  },
  {
   "cell_type": "code",
   "execution_count": 8,
   "metadata": {
    "collapsed": true
   },
   "outputs": [],
   "source": [
    "learning_rate=0.01\n",
    "epsilon=0.1\n",
    "with tf.name_scope('train'):\n",
    "    optimizer=tf.train.AdamOptimizer(learning_rate=learning_rate,epsilon=epsilon)\n",
    "    train_op=optimizer.minimize(loss)"
   ]
  },
  {
   "cell_type": "code",
   "execution_count": 9,
   "metadata": {
    "collapsed": true
   },
   "outputs": [],
   "source": [
    "with tf.name_scope('eval'):\n",
    "    correct=tf.nn.in_top_k(logits,Y,1)\n",
    "    accuracy=tf.reduce_mean(tf.cast(correct,tf.float32))"
   ]
  },
  {
   "cell_type": "code",
   "execution_count": 10,
   "metadata": {
    "collapsed": true
   },
   "outputs": [],
   "source": [
    "init=tf.global_variables_initializer()\n",
    "saver=tf.train.Saver()"
   ]
  },
  {
   "cell_type": "code",
   "execution_count": 11,
   "metadata": {
    "collapsed": true
   },
   "outputs": [],
   "source": [
    "from datetime import datetime\n",
    "\n",
    "now=datetime.utcnow().strftime('%Y%m%d%H%M%S')\n",
    "root_logdir='Mnist'\n",
    "logdir='{}/run-{}/'.format(root_logdir,now)"
   ]
  },
  {
   "cell_type": "code",
   "execution_count": 12,
   "metadata": {
    "collapsed": true
   },
   "outputs": [],
   "source": [
    "loss_summary=tf.summary.scalar('Loss',loss)\n",
    "acc_train_summary=tf.summary.scalar('train_acc',accuracy)\n",
    "acc_test_summary=tf.summary.scalar('test_acc',accuracy)\n",
    "file_writer=tf.summary.FileWriter(logdir, tf.get_default_graph())"
   ]
  },
  {
   "cell_type": "code",
   "execution_count": 13,
   "metadata": {
    "collapsed": true
   },
   "outputs": [],
   "source": [
    "n_epochs=400\n",
    "batch_size=50"
   ]
  },
  {
   "cell_type": "code",
   "execution_count": 14,
   "metadata": {
    "collapsed": true
   },
   "outputs": [],
   "source": [
    "with tf.Session() as sess:\n",
    "    init.run()\n",
    "    for epoch in range(n_epochs):\n",
    "        for iteration in range(mnist.train.num_examples//batch_size):\n",
    "            x_batch, y_batch=mnist.train.next_batch(batch_size)\n",
    "            sess.run(train_op,feed_dict={X:x_batch,Y:y_batch})\n",
    "        summary_str_loss=loss_summary.eval(feed_dict={X:x_batch,Y:y_batch})\n",
    "        summary_str_train=acc_train_summary.eval(feed_dict={X:x_batch,Y:y_batch})\n",
    "        summary_str_test=acc_test_summary.eval(feed_dict={X:mnist.test.images,Y:mnist.test.labels})\n",
    "        file_writer.add_summary(summary_str_loss,epoch)\n",
    "        file_writer.add_summary(summary_str_train,epoch)\n",
    "        file_writer.add_summary(summary_str_test,epoch)\n",
    "    file_writer.close()\n",
    "            "
   ]
  },
  {
   "cell_type": "code",
   "execution_count": null,
   "metadata": {
    "collapsed": true
   },
   "outputs": [],
   "source": [
    "with tf.Session() as sess:\n",
    "    init.run()\n",
    "    for epoch in range(n_epochs):\n",
    "        for iteration in range(mnist.train.num_examples//batch_size):\n",
    "            x_batch, y_batch=mnist.train.next_batch(batch_size)\n",
    "            sess.run(train_op,feed_dict={X:x_batch,Y:y_batch})\n",
    "            lo=loss.eval(feed_dict={X:x_batch, Y:y_batch})\n",
    "            acc_train=accuracy.eval(feed_dict={X:x_batch, Y:y_batch})\n",
    "            acc_test=accuracy.eval(feed_dict={X:mnist.test.images,Y:mnist.test.labels})\n",
    "        print(epoch,'Train accuracy:',acc_train,'Test accuracy:',acc_test,'Loss:',lo)"
   ]
  },
  {
   "cell_type": "code",
   "execution_count": null,
   "metadata": {
    "collapsed": true
   },
   "outputs": [],
   "source": []
  }
 ],
 "metadata": {
  "anaconda-cloud": {},
  "kernelspec": {
   "display_name": "Python 3",
   "language": "python",
   "name": "python3"
  },
  "language_info": {
   "codemirror_mode": {
    "name": "ipython",
    "version": 3
   },
   "file_extension": ".py",
   "mimetype": "text/x-python",
   "name": "python",
   "nbconvert_exporter": "python",
   "pygments_lexer": "ipython3",
   "version": "3.5.2"
  }
 },
 "nbformat": 4,
 "nbformat_minor": 1
}
